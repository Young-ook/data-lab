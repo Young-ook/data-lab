{
 "cells": [
  {
   "cell_type": "markdown",
   "id": "dc244095-d9d7-47e9-8db3-756ed320513c",
   "metadata": {},
   "source": [
    "# PySpark Basic: Standalone Cluster\n",
    "## Previous Steps\n",
    "It would be good to run the [pyspark basic (dataframe) on spark local environment](./dataframe.ipynb) before you run this example. Also, this example requires spark environment. Please follow [the instructions](spark.md) to make sure that you've installed spark application on your environment before you begin. This is simple script to verify if a spark application is installed and configured.\n",
    "\n",
    "## Launch a Standalone Cluster\n",
    "You need to make sure that your standalone spark cluster is running. If your cluster is not running. Run your local standalone spark cluster:"
   ]
  },
  {
   "cell_type": "code",
   "execution_count": 1,
   "id": "c85204f5-3924-4cb1-bcee-9aad07e2aaf2",
   "metadata": {},
   "outputs": [
    {
     "name": "stdout",
     "output_type": "stream",
     "text": [
      "starting org.apache.spark.deploy.master.Master, logging to /home/pen/.local/lib/spark-3.5.4-bin-hadoop3/logs/spark-pen-org.apache.spark.deploy.master.Master-1-emma.out\n",
      "starting org.apache.spark.deploy.worker.Worker, logging to /home/pen/.local/lib/spark-3.5.4-bin-hadoop3/logs/spark-pen-org.apache.spark.deploy.worker.Worker-1-emma.out\n"
     ]
    }
   ],
   "source": [
    "# run a spark standalone cluster\n",
    "!sh sparkctl.sh -r"
   ]
  },
  {
   "cell_type": "markdown",
   "id": "1e113295",
   "metadata": {},
   "source": [
    "## Iinitialize PySpark Environment"
   ]
  },
  {
   "cell_type": "markdown",
   "id": "f5b9f491-9c27-42d9-bc20-5e14057ac9e1",
   "metadata": {},
   "source": [
    "This example requires spark environment. Please make sure that you've installed spark application on your environment before you begin. This is simple script to verify if a spark application is installed and configured.\n",
    "```\n",
    "# It is required to set the SPARK_HOME environment variable.\n",
    "# Please make sure the variable indicates to the right path to your spark.\n",
    "if [ -z $SPARK_HOME ] ; then\n",
    "  export SPARK_HOME=\"$HOME/.local/lib/spark-3.5.4-bin-hadoop3\"\n",
    "fi\n",
    "```"
   ]
  },
  {
   "cell_type": "code",
   "execution_count": 2,
   "id": "5b9c2650-f597-4961-ac05-56bc7883f119",
   "metadata": {},
   "outputs": [
    {
     "name": "stdout",
     "output_type": "stream",
     "text": [
      "findspark                                2.0.1\n"
     ]
    }
   ],
   "source": [
    "# validate findspark\n",
    "!pip list | grep spark"
   ]
  },
  {
   "cell_type": "code",
   "execution_count": 3,
   "id": "ac3892f8-aef8-4c90-9654-b99ae947e1a3",
   "metadata": {},
   "outputs": [],
   "source": [
    "import findspark\n",
    "findspark.init()"
   ]
  },
  {
   "cell_type": "markdown",
   "id": "6a3884da-2c2e-4d11-9a35-c922d47785de",
   "metadata": {},
   "source": [
    "## PySpark on Stndalone Cluster"
   ]
  },
  {
   "cell_type": "code",
   "execution_count": 4,
   "id": "e961bba0-fe4a-4185-8beb-a13520d9bcc1",
   "metadata": {},
   "outputs": [
    {
     "name": "stderr",
     "output_type": "stream",
     "text": [
      "25/03/25 23:08:30 WARN Utils: Your hostname, emma resolves to a loopback address: 127.0.1.1; using 172.18.245.201 instead (on interface eth0)\n",
      "25/03/25 23:08:30 WARN Utils: Set SPARK_LOCAL_IP if you need to bind to another address\n",
      "Setting default log level to \"WARN\".\n",
      "To adjust logging level use sc.setLogLevel(newLevel). For SparkR, use setLogLevel(newLevel).\n",
      "25/03/25 23:08:33 WARN NativeCodeLoader: Unable to load native-hadoop library for your platform... using builtin-java classes where applicable\n"
     ]
    }
   ],
   "source": [
    "import pyspark\n",
    "from pyspark.sql import SparkSession\n",
    "\n",
    "# create a new spark context\n",
    "#sc = pyspark.SparkContext(master=\"spark://localhost:7077\", appName=\"pyspark-basic\")\n",
    "#spark = SparkSession(sc)\n",
    "#\n",
    "# or\n",
    "spark = SparkSession.builder.master(\"spark://localhost:7077\").appName(\"pyspark-basic\").getOrCreate()"
   ]
  },
  {
   "cell_type": "markdown",
   "id": "24ca34ff-6693-452e-a7ab-62deb97f5c4f",
   "metadata": {},
   "source": [
    "### Pi example\n"
   ]
  },
  {
   "cell_type": "code",
   "execution_count": 5,
   "id": "c7c1c93f-2d23-484c-9da5-6b6714155135",
   "metadata": {},
   "outputs": [
    {
     "name": "stderr",
     "output_type": "stream",
     "text": [
      "[Stage 0:>                                                          (0 + 2) / 2]"
     ]
    },
    {
     "name": "stdout",
     "output_type": "stream",
     "text": [
      "3.1415364\n"
     ]
    },
    {
     "name": "stderr",
     "output_type": "stream",
     "text": [
      "                                                                                "
     ]
    }
   ],
   "source": [
    "import random\n",
    "\n",
    "num_samples = 100000000\n",
    "\n",
    "def inside(p):\n",
    "    x, y = random.random(), random.random()\n",
    "    return x*x + y*y < 1\n",
    "\n",
    "count = spark.sparkContext.parallelize(range(0, num_samples)).filter(inside).count()\n",
    "pi = 4 * count / num_samples\n",
    "\n",
    "print(pi)"
   ]
  },
  {
   "cell_type": "markdown",
   "id": "16815f28-73b1-4348-973d-a319aa5346b5",
   "metadata": {},
   "source": [
    "## Clean up"
   ]
  },
  {
   "cell_type": "code",
   "execution_count": 6,
   "id": "15ce6fd9-48af-4c3e-9337-36444ee9c5d7",
   "metadata": {},
   "outputs": [],
   "source": [
    "# stop the current spark session for cleanup\n",
    "spark.stop()"
   ]
  },
  {
   "cell_type": "code",
   "execution_count": 7,
   "id": "f3d755db-22d2-47e9-8549-fd707b52a546",
   "metadata": {},
   "outputs": [
    {
     "name": "stdout",
     "output_type": "stream",
     "text": [
      "stopping org.apache.spark.deploy.worker.Worker\n",
      "stopping org.apache.spark.deploy.master.Master\n"
     ]
    }
   ],
   "source": [
    "# terminate the running spark standalone cluster\n",
    "!sh sparkctl.sh -t"
   ]
  },
  {
   "cell_type": "markdown",
   "id": "333d14ca",
   "metadata": {},
   "source": [
    "# Additional Resources\n",
    "- [Apache Spark Examples](https://spark.apache.org/examples.html)\n",
    "- [Spark SQL, DataFrames and Datasets Guide](https://spark.apache.org/docs/latest/sql-programming-guide.html)"
   ]
  },
  {
   "cell_type": "markdown",
   "id": "7685b6db-8943-4a74-9b13-436322bbdfc7",
   "metadata": {},
   "source": [
    "# References\n",
    "- [Spark Standalone Mode](https://spark.apache.org/docs/latest/spark-standalone.html)\n",
    "- [Submitting Spark Applications](https://spark.apache.org/docs/latest/submitting-applications.html)\n",
    "- [Cluster Mode Overview](https://spark.apache.org/docs/latest/cluster-overview.html)"
   ]
  },
  {
   "cell_type": "code",
   "execution_count": null,
   "id": "4acb7a0e-b310-4394-bd46-94e664863214",
   "metadata": {},
   "outputs": [],
   "source": []
  }
 ],
 "metadata": {
  "kernelspec": {
   "display_name": "Python 3 (ipykernel)",
   "language": "python",
   "name": "python3"
  },
  "language_info": {
   "codemirror_mode": {
    "name": "ipython",
    "version": 3
   },
   "file_extension": ".py",
   "mimetype": "text/x-python",
   "name": "python",
   "nbconvert_exporter": "python",
   "pygments_lexer": "ipython3",
   "version": "3.11.2"
  }
 },
 "nbformat": 4,
 "nbformat_minor": 5
}
