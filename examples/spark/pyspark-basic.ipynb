{
 "cells": [
  {
   "cell_type": "code",
   "execution_count": 1,
   "id": "93fb9d4f-4c57-40e8-ad80-4375f414d316",
   "metadata": {},
   "outputs": [],
   "source": [
    "import findspark\n",
    "findspark.init()"
   ]
  },
  {
   "cell_type": "code",
   "execution_count": 2,
   "id": "e961bba0-fe4a-4185-8beb-a13520d9bcc1",
   "metadata": {},
   "outputs": [
    {
     "data": {
      "text/html": [
       "\n",
       "        <div>\n",
       "            <p><b>SparkContext</b></p>\n",
       "\n",
       "            <p><a href=\"http://192.168.0.23:4040\">Spark UI</a></p>\n",
       "\n",
       "            <dl>\n",
       "              <dt>Version</dt>\n",
       "                <dd><code>v3.5.4</code></dd>\n",
       "              <dt>Master</dt>\n",
       "                <dd><code>spark://localhost:7077</code></dd>\n",
       "              <dt>AppName</dt>\n",
       "                <dd><code>pyspark-shell</code></dd>\n",
       "            </dl>\n",
       "        </div>\n",
       "        "
      ],
      "text/plain": [
       "<SparkContext master=spark://localhost:7077 appName=pyspark-shell>"
      ]
     },
     "execution_count": 2,
     "metadata": {},
     "output_type": "execute_result"
    }
   ],
   "source": [
    "import pyspark\n",
    "sc = pyspark.SparkContext(master=\"spark://localhost:7077\")\n",
    "sc"
   ]
  },
  {
   "cell_type": "code",
   "execution_count": 3,
   "id": "5b9c2650-f597-4961-ac05-56bc7883f119",
   "metadata": {},
   "outputs": [
    {
     "name": "stdout",
     "output_type": "stream",
     "text": [
      "findspark                 2.0.1\n"
     ]
    }
   ],
   "source": [
    "!pip list | grep spark"
   ]
  },
  {
   "cell_type": "markdown",
   "id": "24ca34ff-6693-452e-a7ab-62deb97f5c4f",
   "metadata": {},
   "source": [
    "# Pi example\n"
   ]
  },
  {
   "cell_type": "code",
   "execution_count": 7,
   "id": "c7c1c93f-2d23-484c-9da5-6b6714155135",
   "metadata": {},
   "outputs": [
    {
     "name": "stderr",
     "output_type": "stream",
     "text": [
      "[Stage 1:>                                                          (0 + 4) / 4]"
     ]
    },
    {
     "name": "stdout",
     "output_type": "stream",
     "text": [
      "3.141696\n"
     ]
    },
    {
     "name": "stderr",
     "output_type": "stream",
     "text": [
      "                                                                                "
     ]
    }
   ],
   "source": [
    "import random\n",
    "\n",
    "num_samples = 100000000\n",
    "\n",
    "def inside(p):\n",
    "    x, y = random.random(), random.random()\n",
    "    return x*x + y*y < 1\n",
    "\n",
    "count = sc.parallelize(range(0, num_samples)).filter(inside).count()\n",
    "pi = 4 * count / num_samples\n",
    "\n",
    "print(pi)"
   ]
  },
  {
   "cell_type": "markdown",
   "id": "95e23d80-5b46-4908-8d91-024decea829f",
   "metadata": {},
   "source": [
    "# DataFrame example\n"
   ]
  },
  {
   "cell_type": "code",
   "execution_count": 3,
   "id": "8d240461-c4bf-4bcb-ab7b-24fcf822a74b",
   "metadata": {},
   "outputs": [],
   "source": [
    "from pyspark.sql import SparkSession\n",
    "\n",
    "spark = SparkSession.builder.master(\"local\").appName(\"SparkSQL\").getOrCreate()\n",
    "spark.sparkContext.setLogLevel(\"ERROR\")"
   ]
  },
  {
   "cell_type": "code",
   "execution_count": 4,
   "id": "a8ff5d65-6d2d-415c-8003-58d816a219ed",
   "metadata": {},
   "outputs": [
    {
     "name": "stdout",
     "output_type": "stream",
     "text": [
      "root\n",
      " |-- cd: string (nullable = true)\n",
      " |-- name: string (nullable = true)\n",
      " |-- gender: string (nullable = true)\n",
      " |-- age: long (nullable = true)\n",
      " |-- div: string (nullable = true)\n",
      " |-- salary: long (nullable = true)\n",
      "\n"
     ]
    }
   ],
   "source": [
    "# create DataFrames\n",
    "data = [('001','Smith','M',40,'DA',4000),\n",
    "        ('002','Rose','M',35,'DA',3000),\n",
    "        ('003','Williams','M',30,'DE',2500),\n",
    "        ('004','Anne','F',30,'DE',3000),\n",
    "        ('005','Mary','F',35,'BE',4000),\n",
    "        ('006','James','M',30,'FE',3500)]\n",
    "\n",
    "columns = [\"cd\",\"name\",\"gender\",\"age\",\"div\",\"salary\"]\n",
    "df = spark.createDataFrame(data = data, schema = columns)\n",
    "\n",
    "\n",
    "data = [('001','Smith','M',40,'DA',4000),\n",
    "        ('002','Rose','M',35,'DA',3000),\n",
    "        ('003','Williams','M',30,'DE',2500),\n",
    "        ('004','Anne','F',30,'DE',3000),\n",
    "        ('005','Mary','F',35,'BE',4000),\n",
    "        ('006','James','M',30,'FE',3500)]\n",
    "\n",
    "columns = [\"cd\",\"name\",\"gender\",\"age\",\"div\",\"salary\"]\n",
    "df = spark.createDataFrame(data = data, schema = columns)\n",
    "df.printSchema()"
   ]
  }
 ],
 "metadata": {
  "kernelspec": {
   "display_name": "Python 3 (ipykernel)",
   "language": "python",
   "name": "python3"
  },
  "language_info": {
   "codemirror_mode": {
    "name": "ipython",
    "version": 3
   },
   "file_extension": ".py",
   "mimetype": "text/x-python",
   "name": "python",
   "nbconvert_exporter": "python",
   "pygments_lexer": "ipython3",
   "version": "3.11.2"
  }
 },
 "nbformat": 4,
 "nbformat_minor": 5
}
