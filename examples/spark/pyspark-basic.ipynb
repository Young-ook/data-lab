{
 "cells": [
  {
   "cell_type": "markdown",
   "id": "dc244095-d9d7-47e9-8db3-756ed320513c",
   "metadata": {},
   "source": [
    "# Iinitialize PySpark Environment"
   ]
  },
  {
   "cell_type": "code",
   "execution_count": 3,
   "id": "5b9c2650-f597-4961-ac05-56bc7883f119",
   "metadata": {},
   "outputs": [
    {
     "name": "stdout",
     "output_type": "stream",
     "text": [
      "findspark                 2.0.1\n"
     ]
    }
   ],
   "source": [
    "!pip list | grep spark"
   ]
  },
  {
   "cell_type": "code",
   "execution_count": 4,
   "id": "ac3892f8-aef8-4c90-9654-b99ae947e1a3",
   "metadata": {},
   "outputs": [],
   "source": [
    "import findspark\n",
    "findspark.init()"
   ]
  },
  {
   "cell_type": "markdown",
   "id": "aa1c7516-5dae-493c-9c36-caaa0a48ece9",
   "metadata": {},
   "source": [
    "## PySpark on Local "
   ]
  },
  {
   "cell_type": "code",
   "execution_count": 19,
   "id": "db4d5f02-08b2-4f00-b0ea-8a317a6e650d",
   "metadata": {},
   "outputs": [
    {
     "data": {
      "text/html": [
       "\n",
       "            <div>\n",
       "                <p><b>SparkSession - in-memory</b></p>\n",
       "                \n",
       "        <div>\n",
       "            <p><b>SparkContext</b></p>\n",
       "\n",
       "            <p><a href=\"http://192.168.0.23:4040\">Spark UI</a></p>\n",
       "\n",
       "            <dl>\n",
       "              <dt>Version</dt>\n",
       "                <dd><code>v3.5.4</code></dd>\n",
       "              <dt>Master</dt>\n",
       "                <dd><code>local</code></dd>\n",
       "              <dt>AppName</dt>\n",
       "                <dd><code>pyspark-basic</code></dd>\n",
       "            </dl>\n",
       "        </div>\n",
       "        \n",
       "            </div>\n",
       "        "
      ],
      "text/plain": [
       "<pyspark.sql.session.SparkSession at 0x7f5f7c050590>"
      ]
     },
     "execution_count": 19,
     "metadata": {},
     "output_type": "execute_result"
    }
   ],
   "source": [
    "import pyspark\n",
    "from pyspark.sql import SparkSession\n",
    "\n",
    "## create a new spark context\n",
    "#sc = pyspark.SparkContext(master=\"local\", appName=\"pyspark-basic\")\n",
    "#spark = SparkSession(sc)\n",
    "\n",
    "spark = SparkSession.builder.master(\"local\").appName(\"pyspark-basic\").getOrCreate()\n",
    "# display spark session (local master)\n",
    "spark"
   ]
  },
  {
   "cell_type": "markdown",
   "id": "95e23d80-5b46-4908-8d91-024decea829f",
   "metadata": {},
   "source": [
    "## DataFrame example\n"
   ]
  },
  {
   "cell_type": "code",
   "execution_count": 20,
   "id": "8d240461-c4bf-4bcb-ab7b-24fcf822a74b",
   "metadata": {},
   "outputs": [],
   "source": [
    "# change the log level\n",
    "spark.sparkContext.setLogLevel(\"ERROR\")"
   ]
  },
  {
   "cell_type": "code",
   "execution_count": 22,
   "id": "a8ff5d65-6d2d-415c-8003-58d816a219ed",
   "metadata": {},
   "outputs": [
    {
     "name": "stdout",
     "output_type": "stream",
     "text": [
      "root\n",
      " |-- cd: string (nullable = true)\n",
      " |-- name: string (nullable = true)\n",
      " |-- gender: string (nullable = true)\n",
      " |-- age: long (nullable = true)\n",
      " |-- div: string (nullable = true)\n",
      " |-- salary: long (nullable = true)\n",
      "\n"
     ]
    },
    {
     "name": "stderr",
     "output_type": "stream",
     "text": [
      "                                                                                "
     ]
    },
    {
     "name": "stdout",
     "output_type": "stream",
     "text": [
      "+---+--------+------+---+---+------+\n",
      "| cd|    name|gender|age|div|salary|\n",
      "+---+--------+------+---+---+------+\n",
      "|001|   Smith|     M| 40| DA|  4000|\n",
      "|002|    Rose|     M| 35| DA|  3000|\n",
      "|003|Williams|     M| 30| DE|  2500|\n",
      "|004|    Anne|     F| 30| DE|  3000|\n",
      "|005|    Mary|     F| 35| BE|  4000|\n",
      "|006|   James|     M| 30| FE|  3500|\n",
      "+---+--------+------+---+---+------+\n",
      "\n"
     ]
    }
   ],
   "source": [
    "# create DataFrames\n",
    "data = [('001','Smith','M',40,'DA',4000),\n",
    "        ('002','Rose','M',35,'DA',3000),\n",
    "        ('003','Williams','M',30,'DE',2500),\n",
    "        ('004','Anne','F',30,'DE',3000),\n",
    "        ('005','Mary','F',35,'BE',4000),\n",
    "        ('006','James','M',30,'FE',3500)]\n",
    "\n",
    "columns = [\"cd\",\"name\",\"gender\",\"age\",\"div\",\"salary\"]\n",
    "df = spark.createDataFrame(data = data, schema = columns)\n",
    "\n",
    "\n",
    "data = [('001','Smith','M',40,'DA',4000),\n",
    "        ('002','Rose','M',35,'DA',3000),\n",
    "        ('003','Williams','M',30,'DE',2500),\n",
    "        ('004','Anne','F',30,'DE',3000),\n",
    "        ('005','Mary','F',35,'BE',4000),\n",
    "        ('006','James','M',30,'FE',3500)]\n",
    "\n",
    "columns = [\"cd\",\"name\",\"gender\",\"age\",\"div\",\"salary\"]\n",
    "df = spark.createDataFrame(data = data, schema = columns)\n",
    "df.printSchema()\n",
    "df.show()"
   ]
  },
  {
   "cell_type": "code",
   "execution_count": 24,
   "id": "6064c211-63a1-4e2d-b569-8f138d65aad1",
   "metadata": {},
   "outputs": [],
   "source": [
    "# stop the current spark session before connecting to standalone cluster\n",
    "spark.stop()"
   ]
  },
  {
   "cell_type": "markdown",
   "id": "6a3884da-2c2e-4d11-9a35-c922d47785de",
   "metadata": {},
   "source": [
    "## PySpark on Stndalone Cluster"
   ]
  },
  {
   "cell_type": "code",
   "execution_count": 25,
   "id": "e961bba0-fe4a-4185-8beb-a13520d9bcc1",
   "metadata": {},
   "outputs": [
    {
     "data": {
      "text/html": [
       "\n",
       "        <div>\n",
       "            <p><b>SparkContext</b></p>\n",
       "\n",
       "            <p><a href=\"http://192.168.0.23:4040\">Spark UI</a></p>\n",
       "\n",
       "            <dl>\n",
       "              <dt>Version</dt>\n",
       "                <dd><code>v3.5.4</code></dd>\n",
       "              <dt>Master</dt>\n",
       "                <dd><code>spark://localhost:7077</code></dd>\n",
       "              <dt>AppName</dt>\n",
       "                <dd><code>pyspark-shell</code></dd>\n",
       "            </dl>\n",
       "        </div>\n",
       "        "
      ],
      "text/plain": [
       "<SparkContext master=spark://localhost:7077 appName=pyspark-shell>"
      ]
     },
     "execution_count": 25,
     "metadata": {},
     "output_type": "execute_result"
    }
   ],
   "source": [
    "import pyspark\n",
    "sc = pyspark.SparkContext(master=\"spark://localhost:7077\")\n",
    "sc"
   ]
  },
  {
   "cell_type": "markdown",
   "id": "24ca34ff-6693-452e-a7ab-62deb97f5c4f",
   "metadata": {},
   "source": [
    "## Pi example\n"
   ]
  },
  {
   "cell_type": "code",
   "execution_count": 26,
   "id": "c7c1c93f-2d23-484c-9da5-6b6714155135",
   "metadata": {},
   "outputs": [
    {
     "name": "stderr",
     "output_type": "stream",
     "text": [
      "[Stage 0:>                                                          (0 + 4) / 4]"
     ]
    },
    {
     "name": "stdout",
     "output_type": "stream",
     "text": [
      "3.1416436\n"
     ]
    },
    {
     "name": "stderr",
     "output_type": "stream",
     "text": [
      "                                                                                "
     ]
    }
   ],
   "source": [
    "import random\n",
    "\n",
    "num_samples = 100000000\n",
    "\n",
    "def inside(p):\n",
    "    x, y = random.random(), random.random()\n",
    "    return x*x + y*y < 1\n",
    "\n",
    "count = sc.parallelize(range(0, num_samples)).filter(inside).count()\n",
    "pi = 4 * count / num_samples\n",
    "\n",
    "print(pi)"
   ]
  },
  {
   "cell_type": "code",
   "execution_count": 28,
   "id": "15ce6fd9-48af-4c3e-9337-36444ee9c5d7",
   "metadata": {},
   "outputs": [],
   "source": [
    "# stop the current spark session for cleanup\n",
    "spark.stop()"
   ]
  },
  {
   "cell_type": "code",
   "execution_count": null,
   "id": "8c8a8cf2-d78e-4a5b-a499-50e11df9c1fd",
   "metadata": {},
   "outputs": [],
   "source": []
  }
 ],
 "metadata": {
  "kernelspec": {
   "display_name": "Python 3 (ipykernel)",
   "language": "python",
   "name": "python3"
  },
  "language_info": {
   "codemirror_mode": {
    "name": "ipython",
    "version": 3
   },
   "file_extension": ".py",
   "mimetype": "text/x-python",
   "name": "python",
   "nbconvert_exporter": "python",
   "pygments_lexer": "ipython3",
   "version": "3.11.2"
  }
 },
 "nbformat": 4,
 "nbformat_minor": 5
}
